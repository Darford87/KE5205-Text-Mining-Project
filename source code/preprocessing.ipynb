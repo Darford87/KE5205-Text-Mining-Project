{
 "cells": [
  {
   "cell_type": "code",
   "execution_count": 1,
   "metadata": {
    "collapsed": true
   },
   "outputs": [],
   "source": [
    "# import the necessary library\n",
    "import pandas as pd\n",
    "import numpy as np"
   ]
  },
  {
   "cell_type": "code",
   "execution_count": 2,
   "metadata": {
    "collapsed": true
   },
   "outputs": [],
   "source": [
    "# read in the dataset\n",
    "df_msia = pd.read_csv('MsiaAccidentCases.csv')\n",
    "df_osha = pd.read_csv('osha.csv', header=None)"
   ]
  },
  {
   "cell_type": "code",
   "execution_count": 3,
   "metadata": {
    "collapsed": true
   },
   "outputs": [],
   "source": [
    "# rename the column name of both dataset\n",
    "df_msia.columns = ['cause', 'title', 'description']\n",
    "df_osha.columns = ['incident_ID', 'title', 'description', 'key_terms_1', 'key_terms_2']"
   ]
  },
  {
   "cell_type": "code",
   "execution_count": 4,
   "metadata": {},
   "outputs": [
    {
     "data": {
      "text/plain": [
       "array(['Caught in/between Objects', 'Other', 'Struck By Moving Objects',\n",
       "       'Fires and Explosion', 'Falls', 'Electrocution',\n",
       "       'Exposure to extreme temperatures', 'Collapse of object',\n",
       "       'Exposure to Chemical Substances', 'Others', 'Drowning',\n",
       "       'Suffocation'], dtype=object)"
      ]
     },
     "execution_count": 4,
     "metadata": {},
     "output_type": "execute_result"
    }
   ],
   "source": [
    "# check the unique name of labelled 'cause'\n",
    "# 'Other' and 'Others' refer to the same type should be grouped together\n",
    "df_msia['cause'].unique()"
   ]
  },
  {
   "cell_type": "code",
   "execution_count": 5,
   "metadata": {
    "collapsed": true
   },
   "outputs": [],
   "source": [
    "# standardized the labelled 'cause' name with 'Others' and 'Other' to be same type in Malaysia dataset \n",
    "df_msia['cause'] = df_msia['cause'].str.replace('Others', 'Other')"
   ]
  },
  {
   "cell_type": "code",
   "execution_count": 6,
   "metadata": {
    "collapsed": true
   },
   "outputs": [],
   "source": [
    "# export the preprocessed dataset and save as a new .csv file\n",
    "df_msia.to_csv('MsiaAccidentCases_clean.csv')\n",
    "df_osha.to_csv('osha_clean.csv')"
   ]
  }
 ],
 "metadata": {
  "kernelspec": {
   "display_name": "Python 3",
   "language": "python",
   "name": "python3"
  },
  "language_info": {
   "codemirror_mode": {
    "name": "ipython",
    "version": 3
   },
   "file_extension": ".py",
   "mimetype": "text/x-python",
   "name": "python",
   "nbconvert_exporter": "python",
   "pygments_lexer": "ipython3",
   "version": "3.6.2"
  }
 },
 "nbformat": 4,
 "nbformat_minor": 2
}
